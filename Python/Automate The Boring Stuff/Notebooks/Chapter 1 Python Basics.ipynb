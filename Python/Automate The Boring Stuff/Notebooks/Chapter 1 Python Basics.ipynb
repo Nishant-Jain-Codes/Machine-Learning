{
 "cells": [
  {
   "cell_type": "markdown",
   "metadata": {},
   "source": []
  },
  {
   "cell_type": "markdown",
   "metadata": {},
   "source": [
    "### Operator precedence"
   ]
  },
  {
   "cell_type": "markdown",
   "metadata": {},
   "source": [
    "| Operator | Operation                   | Example    | Evaluates to... |\n",
    "| -------- | ---------------------------- | ---------- | --------------- |\n",
    "| **       | Exponent                    | 2 ** 3     | 8               |\n",
    "| %        | Modulus/remainder           | 22 % 8     | 6               |\n",
    "| //       | Integer division/floored quotient | 22 // 8 | 2               |\n",
    "| /        | Division                    | 22 / 8     | 2.75            |\n",
    "| *        | Multiplication               | 3 * 5      | 15              |\n",
    "| -        | Subtraction                 | 5 - 2      | 3               |\n",
    "| +        | Addition                    | 2 + 2      | 4               |\n"
   ]
  },
  {
   "cell_type": "markdown",
   "metadata": {},
   "source": [
    "left to right precedence"
   ]
  },
  {
   "cell_type": "code",
   "execution_count": 1,
   "metadata": {},
   "outputs": [
    {
     "name": "stdout",
     "output_type": "stream",
     "text": [
      "hello world\n"
     ]
    }
   ],
   "source": [
    "print('hello world')"
   ]
  },
  {
   "cell_type": "markdown",
   "metadata": {},
   "source": [
    "Certainly, here are the questions without answers:\n",
    "\n",
    "**Practice Questions**\n",
    "\n",
    "1. Which of the following are operators, and which are values?\n",
    "   - *\n",
    "   - 'hello'\n",
    "   - -88.8\n",
    "   - -\n",
    "   - /\n",
    "   - +\n",
    "   - 5\n",
    "\n",
    "answer : operators are *, -, /, + and values are 'hello', -88.8, 5\n",
    "\n",
    "2. Which of the following is a variable, and which is a string?\n",
    "   - spam\n",
    "   - 'spam'\n",
    "\n",
    "answer : spam is a variable and 'spam' is a string\n",
    "\n",
    "3. Name three data types.\n",
    "\n",
    "answer: number (int, float), string, boolean\n",
    "\n",
    "4. What is an expression made up of? What do all expressions do?\n",
    "\n",
    "answer: operators and operands. All expressions evaluate to a single value.\n",
    "\n",
    "5. This chapter introduced assignment statements, like `spam = 10`. What is the difference between an expression and a statement?\n",
    "\n",
    "answer: expression evaluates to a single value and statement does not. \n",
    "\n",
    "6. What does the variable `bacon` contain after the following code runs?\n",
    "   ```\n",
    "   bacon = 20\n",
    "   bacon + 1\n",
    "   ```\n",
    "\n",
    "answer: 20\n",
    "\n",
    "7. What should the following two expressions evaluate to?\n",
    "   - 'spam' + 'spamspam'\n",
    "   - 'spam' * 3\n",
    "\n",
    "answer: 'spamspamspam'\n",
    "\n",
    "8. Why is `eggs` a valid variable name while `100` is invalid?\n",
    "\n",
    "answer: variable name cannot start with a number\n",
    "\n",
    "9.  What three functions can be used to get the integer, floating-point number, or string version of a value?\n",
    "\n",
    "answer: int(), float(), str()\n",
    "\n",
    "10. Why does this expression cause an error? How can you fix it?\n",
    "    - 'I have eaten ' + 99 + ' burritos.'\n",
    "\n",
    "answer: 99 is an integer and cannot be concatenated with string. 'I have eaten ' + '99' + ' burritos.'"
   ]
  },
  {
   "cell_type": "markdown",
   "metadata": {},
   "source": [
    "## projects \n",
    "\n",
    "\n",
    "- [ ]      *Easy:* Personalized Welcome Message (as mentioned in the previous list).\n",
    "- [ ]      *Medium:* Simple Calculator: Build a command-line calculator that can perform basic arithmetic operations.\n",
    "- [ ]      *Hard:* Interactive Quiz: Create a script that quizzes the user with multiple-choice questions and provides a score at the end."
   ]
  }
 ],
 "metadata": {
  "kernelspec": {
   "display_name": "Python 3",
   "language": "python",
   "name": "python3"
  },
  "language_info": {
   "codemirror_mode": {
    "name": "ipython",
    "version": 3
   },
   "file_extension": ".py",
   "mimetype": "text/x-python",
   "name": "python",
   "nbconvert_exporter": "python",
   "pygments_lexer": "ipython3",
   "version": "3.11.1"
  }
 },
 "nbformat": 4,
 "nbformat_minor": 2
}
