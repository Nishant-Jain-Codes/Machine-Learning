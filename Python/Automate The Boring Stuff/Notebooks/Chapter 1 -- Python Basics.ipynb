{
 "cells": [
  {
   "cell_type": "markdown",
   "metadata": {},
   "source": []
  },
  {
   "cell_type": "markdown",
   "metadata": {},
   "source": [
    "### Operator precedence"
   ]
  },
  {
   "cell_type": "markdown",
   "metadata": {},
   "source": [
    "| Operator | Operation                   | Example    | Evaluates to... |\n",
    "| -------- | ---------------------------- | ---------- | --------------- |\n",
    "| **       | Exponent                    | 2 ** 3     | 8               |\n",
    "| %        | Modulus/remainder           | 22 % 8     | 6               |\n",
    "| //       | Integer division/floored quotient | 22 // 8 | 2               |\n",
    "| /        | Division                    | 22 / 8     | 2.75            |\n",
    "| *        | Multiplication               | 3 * 5      | 15              |\n",
    "| -        | Subtraction                 | 5 - 2      | 3               |\n",
    "| +        | Addition                    | 2 + 2      | 4               |\n"
   ]
  },
  {
   "cell_type": "markdown",
   "metadata": {},
   "source": [
    "left to right precedence"
   ]
  },
  {
   "cell_type": "code",
   "execution_count": 1,
   "metadata": {},
   "outputs": [
    {
     "name": "stdout",
     "output_type": "stream",
     "text": [
      "hello world\n"
     ]
    }
   ],
   "source": [
    "print('hello world')"
   ]
  },
  {
   "cell_type": "markdown",
   "metadata": {},
   "source": [
    "Certainly, here are the questions without answers:\n",
    "\n",
    "**Practice Questions**\n",
    "\n",
    "1. Which of the following are operators, and which are values?\n",
    "   - *\n",
    "   - 'hello'\n",
    "   - -88.8\n",
    "   - -\n",
    "   - /\n",
    "   - +\n",
    "   - 5\n",
    "\n",
    "answer : operators are *, -, /, + and values are 'hello', -88.8, 5\n",
    "\n",
    "2. Which of the following is a variable, and which is a string?\n",
    "   - spam\n",
    "   - 'spam'\n",
    "\n",
    "answer : spam is a variable and 'spam' is a string\n",
    "\n",
    "3. Name three data types.\n",
    "\n",
    "answer: number (int, float), string, boolean\n",
    "\n",
    "4. What is an expression made up of? What do all expressions do?\n",
    "\n",
    "answer: operators and operands. All expressions evaluate to a single value.\n",
    "\n",
    "5. This chapter introduced assignment statements, like `spam = 10`. What is the difference between an expression and a statement?\n",
    "\n",
    "answer: expression evaluates to a single value and statement does not. \n",
    "\n",
    "6. What does the variable `bacon` contain after the following code runs?\n",
    "   ```\n",
    "   bacon = 20\n",
    "   bacon + 1\n",
    "   ```\n",
    "\n",
    "answer: 20\n",
    "\n",
    "7. What should the following two expressions evaluate to?\n",
    "   - 'spam' + 'spamspam'\n",
    "   - 'spam' * 3\n",
    "\n",
    "answer: 'spamspamspam'\n",
    "\n",
    "8. Why is `eggs` a valid variable name while `100` is invalid?\n",
    "\n",
    "answer: variable name cannot start with a number\n",
    "\n",
    "9.  What three functions can be used to get the integer, floating-point number, or string version of a value?\n",
    "\n",
    "answer: int(), float(), str()\n",
    "\n",
    "10. Why does this expression cause an error? How can you fix it?\n",
    "    - 'I have eaten ' + 99 + ' burritos.'\n",
    "\n",
    "answer: 99 is an integer and cannot be concatenated with string. 'I have eaten ' + '99' + ' burritos.'"
   ]
  },
  {
   "cell_type": "markdown",
   "metadata": {},
   "source": [
    "## projects \n",
    "\n",
    "\n",
    "-   [x]  Easy: Personalized Welcome Message: Write a Python script that takes user input for their name and prints a personalized welcome message.\n",
    "-   [x]  Medium: Simple Calculator: Build a command-line calculator that can perform basic arithmetic operations.\n",
    "-   [x]  Hard: Interactive Quiz: Create a Python script that quizzes the user with multiple-choice questions and provides a score at the end."
   ]
  },
  {
   "cell_type": "code",
   "execution_count": 1,
   "metadata": {},
   "outputs": [
    {
     "name": "stdout",
     "output_type": "stream",
     "text": [
      "Hello! Nishant Nice to meet you!\n"
     ]
    }
   ],
   "source": [
    "#p1 \n",
    "name = input('What is your name?\\n')\n",
    "print(f'Hello! {name} Nice to meet you!')"
   ]
  },
  {
   "cell_type": "code",
   "execution_count": 3,
   "metadata": {},
   "outputs": [
    {
     "name": "stdout",
     "output_type": "stream",
     "text": [
      "100.0 + 1.0 = 101.0\n",
      "Goodbye!\n"
     ]
    }
   ],
   "source": [
    "#p2\n",
    "# Define functions for arithmetic operations\n",
    "def add(x, y):\n",
    "    return x + y\n",
    "\n",
    "def subtract(x, y):\n",
    "    return x - y\n",
    "\n",
    "def multiply(x, y):\n",
    "    return x * y\n",
    "\n",
    "def divide(x, y):\n",
    "    if y == 0:\n",
    "        return \"Cannot divide by zero\"\n",
    "    return x / y\n",
    "\n",
    "# Create a dictionary to map operators to functions\n",
    "operations = {\n",
    "    '+': add,\n",
    "    '-': subtract,\n",
    "    '*': multiply,\n",
    "    '/': divide\n",
    "}\n",
    "\n",
    "while True:\n",
    "    # Take user input for the operation and numbers\n",
    "    operation = input(\"Enter an operation (+, -, *, /) or 'q' to quit: \")\n",
    "    \n",
    "    if operation == 'q':\n",
    "        print(\"Goodbye!\")\n",
    "        break\n",
    "\n",
    "    if operation not in operations:\n",
    "        print(\"Invalid operation\")\n",
    "        continue\n",
    "\n",
    "    num1 = float(input(\"Enter the first number: \"))\n",
    "    num2 = float(input(\"Enter the second number: \"))\n",
    "\n",
    "    # Check if the operation is valid and perform the calculation\n",
    "    if operation in operations:\n",
    "        result = operations[operation](num1, num2)\n",
    "        print(f\"{num1} {operation} {num2} = {result}\")\n"
   ]
  },
  {
   "cell_type": "code",
   "execution_count": 10,
   "metadata": {},
   "outputs": [
    {
     "name": "stdout",
     "output_type": "stream",
     "text": [
      "What is the result of 2 + 2?\n",
      "1. 3\n",
      "2. 4\n",
      "3. 5\n",
      "4. 6\n",
      "your answer is option 2 =  4 \n",
      "Which keyword is used to define a function in Python?\n",
      "1. function\n",
      "2. def\n",
      "3. define\n",
      "4. func\n",
      "your answer is option 1 =  function \n",
      "What is the output of 'Hello' + 'World' in Python?\n",
      "1. HelloWorld\n",
      "2. Hello World\n",
      "3. Hello+World\n",
      "4. TypeError\n",
      "your answer is option 4 =  TypeError \n",
      "What is the Pythonic way to comment out multiple lines of code?\n",
      "1. // Comments\n",
      "2. /* Comments */\n",
      "3. # Comments\n",
      "4. ''' Comments '''\n",
      "your answer is option 1 =  // Comments \n",
      "Which data type is used to store a sequence of characters in Python?\n",
      "1. int\n",
      "2. list\n",
      "3. string\n",
      "4. float\n",
      "your answer is option 3 =  string \n",
      "What does the 'len()' function in Python do?\n",
      "1. Calculate logarithms\n",
      "2. Find the length of a sequence\n",
      "3. Convert to lowercase\n",
      "4. Multiply two numbers\n",
      "your answer is option 4 =  Multiply two numbers \n",
      "In Python, which symbol is used to represent 'not equal'?\n",
      "1. =\n",
      "2. ==\n",
      "3. <>\n",
      "4. !=\n",
      "your answer is option 1 =  = \n",
      "What is the output of 'Python'[1:4]?\n",
      "1. Pyt\n",
      "2. yth\n",
      "3. thon\n",
      "4. Pyth\n",
      "your answer is option 3 =  thon \n",
      "Which module in Python is used for working with regular expressions?\n",
      "1. re\n",
      "2. regex\n",
      "3. string\n",
      "4. regexp\n",
      "your answer is option 4 =  regexp \n",
      "What is the result of 2**3 in Python?\n",
      "1. 8\n",
      "2. 6\n",
      "3. 16\n",
      "4. 12\n",
      "your answer is option 2 =  6 \n",
      "Your score is 2 out of 10\n"
     ]
    }
   ],
   "source": [
    "#p3\n",
    "python_questions = {\n",
    "    \"question1\": {\n",
    "        \"question_statement\": \"What is the result of 2 + 2?\",\n",
    "        \"options\": [\"3\", \"4\", \"5\", \"6\"],\n",
    "        \"correct_ans\": 1  # Index of the correct answer (4)\n",
    "    },\n",
    "    \"question2\": {\n",
    "        \"question_statement\": \"Which keyword is used to define a function in Python?\",\n",
    "        \"options\": [\"function\", \"def\", \"define\", \"func\"],\n",
    "        \"correct_ans\": 1  # Index of the correct answer (def)\n",
    "    },\n",
    "    \"question3\": {\n",
    "        \"question_statement\": \"What is the output of 'Hello' + 'World' in Python?\",\n",
    "        \"options\": [\"HelloWorld\", \"Hello World\", \"Hello+World\", \"TypeError\"],\n",
    "        \"correct_ans\": 0  # Index of the correct answer (HelloWorld)\n",
    "    },\n",
    "    \"question4\": {\n",
    "        \"question_statement\": \"What is the Pythonic way to comment out multiple lines of code?\",\n",
    "        \"options\": [\"// Comments\", \"/* Comments */\", \"# Comments\", \"''' Comments '''\"],\n",
    "        \"correct_ans\": 3  # Index of the correct answer (''' Comments ''')\n",
    "    },\n",
    "    \"question5\": {\n",
    "        \"question_statement\": \"Which data type is used to store a sequence of characters in Python?\",\n",
    "        \"options\": [\"int\", \"list\", \"string\", \"float\"],\n",
    "        \"correct_ans\": 2  # Index of the correct answer (string)\n",
    "    },\n",
    "    \"question6\": {\n",
    "        \"question_statement\": \"What does the 'len()' function in Python do?\",\n",
    "        \"options\": [\"Calculate logarithms\", \"Find the length of a sequence\", \"Convert to lowercase\", \"Multiply two numbers\"],\n",
    "        \"correct_ans\": 1  # Index of the correct answer (Find the length of a sequence)\n",
    "    },\n",
    "    \"question7\": {\n",
    "        \"question_statement\": \"In Python, which symbol is used to represent 'not equal'?\",\n",
    "        \"options\": [\"=\", \"==\", \"<>\", \"!=\",],\n",
    "        \"correct_ans\": 3  # Index of the correct answer (!=)\n",
    "    },\n",
    "    \"question8\": {\n",
    "        \"question_statement\": \"What is the output of 'Python'[1:4]?\",\n",
    "        \"options\": [\"Pyt\", \"yth\", \"thon\", \"Pyth\"],\n",
    "        \"correct_ans\": 0  # Index of the correct answer (Pyt)\n",
    "    },\n",
    "    \"question9\": {\n",
    "        \"question_statement\": \"Which module in Python is used for working with regular expressions?\",\n",
    "        \"options\": [\"re\", \"regex\", \"string\", \"regexp\"],\n",
    "        \"correct_ans\": 0  # Index of the correct answer (re)\n",
    "    },\n",
    "    \"question10\": {\n",
    "        \"question_statement\": \"What is the result of 2**3 in Python?\",\n",
    "        \"options\": [\"8\", \"6\", \"16\", \"12\"],\n",
    "        \"correct_ans\": 0  # Index of the correct answer (8)\n",
    "    }\n",
    "}\n",
    "score = 0\n",
    "ans \n",
    "for i,question in python_questions.items():\n",
    "    print(question[\"question_statement\"],end=\"\\n\")\n",
    "    for j, option in enumerate(question[\"options\"]):\n",
    "        print(f'{j+1}. {option}')\n",
    "    ans = int(input(\"Enter your answer: \"))\n",
    "    print(f'\\nyour answer is option {ans} =  {question[\"options\"][ans-1]} ')\n",
    "    if ans == question[\"correct_ans\"]+1:\n",
    "        score += 1\n",
    "print(f'Your score is {score} out of {len(python_questions)}')"
   ]
  }
 ],
 "metadata": {
  "kernelspec": {
   "display_name": "Python 3",
   "language": "python",
   "name": "python3"
  },
  "language_info": {
   "codemirror_mode": {
    "name": "ipython",
    "version": 3
   },
   "file_extension": ".py",
   "mimetype": "text/x-python",
   "name": "python",
   "nbconvert_exporter": "python",
   "pygments_lexer": "ipython3",
   "version": "3.11.1"
  }
 },
 "nbformat": 4,
 "nbformat_minor": 2
}
